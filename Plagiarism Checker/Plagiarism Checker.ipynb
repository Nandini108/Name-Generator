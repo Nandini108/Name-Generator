{
 "cells": [
  {
   "cell_type": "code",
   "execution_count": 1,
   "metadata": {
    "ExecuteTime": {
     "end_time": "2021-10-05T13:06:11.749110Z",
     "start_time": "2021-10-05T13:06:09.467318Z"
    }
   },
   "outputs": [
    {
     "name": "stdout",
     "output_type": "stream",
     "text": [
      "Similarity data:\n",
      " ('File 1.txt', 'File 3.txt', 0.7652495556569432)\n",
      "Similarity data:\n",
      " ('File 1.txt', 'File 2.txt', 0.5429392493791333)\n",
      "Similarity data:\n",
      " ('File 2.txt', 'File 3.txt', 0.5858083067194831)\n"
     ]
    }
   ],
   "source": [
    "# Import necessary modules!\n",
    "import os\n",
    "from sklearn.feature_extraction.text import TfidfVectorizer\n",
    "from sklearn.metrics.pairwise import cosine_similarity\n",
    "\n",
    "student_files = [doc for doc in os.listdir() if doc.endswith('.txt')]\n",
    "student_notes = [open(_file, encoding='utf-8').read()\n",
    "                 for _file in student_files]\n",
    "\n",
    "\n",
    "def vectorize(Text): return TfidfVectorizer().fit_transform(Text).toarray()\n",
    "def similarity(doc1, doc2): return cosine_similarity([doc1, doc2])\n",
    "\n",
    "\n",
    "vectors = vectorize(student_notes)\n",
    "s_vectors = list(zip(student_files, vectors))\n",
    "plagiarism_results = set()\n",
    "\n",
    "\n",
    "def check_plagiarism():\n",
    "    global s_vectors\n",
    "    for student_a, text_vector_a in s_vectors:\n",
    "        new_vectors = s_vectors.copy()\n",
    "        current_index = new_vectors.index((student_a, text_vector_a))\n",
    "        del new_vectors[current_index]\n",
    "        for student_b, text_vector_b in new_vectors:\n",
    "            sim_score = similarity(text_vector_a, text_vector_b)[0][1]\n",
    "            student_pair = sorted((student_a, student_b))\n",
    "            score = (student_pair[0], student_pair[1], sim_score)\n",
    "            plagiarism_results.add(score)\n",
    "    return plagiarism_results\n",
    "\n",
    "\n",
    "for data in check_plagiarism():\n",
    "    print(\"Similarity data:\\n\", data)      "
   ]
  },
  {
   "cell_type": "code",
   "execution_count": null,
   "metadata": {},
   "outputs": [],
   "source": []
  }
 ],
 "metadata": {
  "hide_input": false,
  "kernelspec": {
   "display_name": "Python 3 (ipykernel)",
   "language": "python",
   "name": "python3"
  },
  "language_info": {
   "codemirror_mode": {
    "name": "ipython",
    "version": 3
   },
   "file_extension": ".py",
   "mimetype": "text/x-python",
   "name": "python",
   "nbconvert_exporter": "python",
   "pygments_lexer": "ipython3",
   "version": "3.9.12"
  },
  "toc": {
   "base_numbering": 1,
   "nav_menu": {},
   "number_sections": true,
   "sideBar": true,
   "skip_h1_title": false,
   "title_cell": "Table of Contents",
   "title_sidebar": "Contents",
   "toc_cell": false,
   "toc_position": {},
   "toc_section_display": true,
   "toc_window_display": false
  },
  "varInspector": {
   "cols": {
    "lenName": 16,
    "lenType": 16,
    "lenVar": 40
   },
   "kernels_config": {
    "python": {
     "delete_cmd_postfix": "",
     "delete_cmd_prefix": "del ",
     "library": "var_list.py",
     "varRefreshCmd": "print(var_dic_list())"
    },
    "r": {
     "delete_cmd_postfix": ") ",
     "delete_cmd_prefix": "rm(",
     "library": "var_list.r",
     "varRefreshCmd": "cat(var_dic_list()) "
    }
   },
   "types_to_exclude": [
    "module",
    "function",
    "builtin_function_or_method",
    "instance",
    "_Feature"
   ],
   "window_display": false
  },
  "vscode": {
   "interpreter": {
    "hash": "f4a5aaf0e81527b6176594c7af59856b967260c0ff5f33fbbb76cd469280c61e"
   }
  }
 },
 "nbformat": 4,
 "nbformat_minor": 4
}
